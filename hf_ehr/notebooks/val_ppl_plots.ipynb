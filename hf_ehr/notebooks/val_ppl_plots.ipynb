{
 "cells": [
  {
   "cell_type": "code",
   "execution_count": 2,
   "metadata": {},
   "outputs": [],
   "source": [
    "%load_ext autoreload\n",
    "%autoreload 2\n",
    "\n",
    "import pandas as pd\n",
    "import matplotlib.pyplot as plt\n",
    "import os\n",
    "import json\n",
    "from typing import List, Dict, Tuple, Optional\n",
    "from tqdm import tqdm\n",
    "import seaborn as sns\n",
    "import numpy as np\n",
    "import matplotlib.pyplot as plt\n",
    "tqdm.pandas()\n",
    "sns.set_context(\"paper\")"
   ]
  },
  {
   "cell_type": "code",
   "execution_count": null,
   "metadata": {},
   "outputs": [],
   "source": [
    "path_to_results_dir: str = '/share/pi/nigam/mwornow/hf_ehr/cache/runs/archive/ppl/val'\n",
    "variant: str = 'dataset=FEMRDataset-stride=32-n_patients=1000-is_config=False'\n",
    "\n",
    "path_to_results: str = os.path.join(path_to_results_dir, variant)"
   ]
  },
  {
   "cell_type": "markdown",
   "metadata": {},
   "source": [
    "# Stability of Val/PPL Readout\n",
    "\n",
    "How stable is our estimate of val/ppl v. number of patients?\n",
    "\n",
    "Experiment: Calculate val/ppl for same model across 1k, 5k, 10k, 20k val patients and measure deviation.\n",
    "\n",
    "NOTE: It takes ~2.5 hrs for 10k patients."
   ]
  },
  {
   "cell_type": "code",
   "execution_count": 15,
   "metadata": {},
   "outputs": [
    {
     "data": {
      "text/html": [
       "<div>\n",
       "<style scoped>\n",
       "    .dataframe tbody tr th:only-of-type {\n",
       "        vertical-align: middle;\n",
       "    }\n",
       "\n",
       "    .dataframe tbody tr th {\n",
       "        vertical-align: top;\n",
       "    }\n",
       "\n",
       "    .dataframe thead th {\n",
       "        text-align: right;\n",
       "    }\n",
       "</style>\n",
       "<table border=\"1\" class=\"dataframe\">\n",
       "  <thead>\n",
       "    <tr style=\"text-align: right;\">\n",
       "      <th></th>\n",
       "      <th>ppl_per_token</th>\n",
       "      <th>n_tokens</th>\n",
       "    </tr>\n",
       "  </thead>\n",
       "  <tbody>\n",
       "    <tr>\n",
       "      <th>1k</th>\n",
       "      <td>9.066060</td>\n",
       "      <td>659969.0</td>\n",
       "    </tr>\n",
       "    <tr>\n",
       "      <th>5k</th>\n",
       "      <td>8.713906</td>\n",
       "      <td>3460702.0</td>\n",
       "    </tr>\n",
       "    <tr>\n",
       "      <th>10k</th>\n",
       "      <td>8.533232</td>\n",
       "      <td>7407861.0</td>\n",
       "    </tr>\n",
       "  </tbody>\n",
       "</table>\n",
       "</div>"
      ],
      "text/plain": [
       "     ppl_per_token   n_tokens\n",
       "1k        9.066060   659969.0\n",
       "5k        8.713906  3460702.0\n",
       "10k       8.533232  7407861.0"
      ]
     },
     "execution_count": 15,
     "metadata": {},
     "output_type": "execute_result"
    }
   ],
   "source": [
    "path_to_base_results: str = '/share/pi/nigam/mwornow/hf_ehr/cache/runs/archive/gpt-base-1024--clmbr/ppl/val/'\n",
    "path_to_1k = os.path.join(path_to_base_results, 'dataset=FEMRDataset-stride=32-n_patients=1000-is_config=False')\n",
    "path_to_5k = os.path.join(path_to_base_results, 'dataset=FEMRDataset-stride=32-n_patients=5000-is_config=False')\n",
    "path_to_10k = os.path.join(path_to_base_results, 'dataset=FEMRDataset-stride=32-n_patients=10000-is_config=False')\n",
    "path_to_50k = os.path.join(path_to_base_results, 'dataset=FEMRDataset-stride=32-n_patients=50000-is_config=False')\n",
    "file_name: str = 'train-tokens-total_nonPAD-true_val=2400000000-ckpt_val=2400000000-persist'\n",
    "\n",
    "def parse_json(path: str) -> Dict:\n",
    "    data = json.load(open(path + '.json', 'r'))\n",
    "    ppl_per_token = data['results']['ppl_per_token']\n",
    "    n_tokens = data['results']['n_tokens']\n",
    "    return {'ppl_per_token': ppl_per_token, 'n_tokens': n_tokens}\n",
    "\n",
    "df = pd.DataFrame({\n",
    "    '1k': parse_json(os.path.join(path_to_1k, file_name)),\n",
    "    '5k': parse_json(os.path.join(path_to_5k, file_name)),\n",
    "    '10k': parse_json(os.path.join(path_to_10k, file_name))\n",
    "}).T\n",
    "df"
   ]
  },
  {
   "cell_type": "markdown",
   "metadata": {},
   "source": [
    "# What does the val/ppl distribution look like?\n",
    "\n",
    "Let's do some EDA."
   ]
  },
  {
   "cell_type": "code",
   "execution_count": 75,
   "metadata": {},
   "outputs": [],
   "source": [
    "df = pd.read_parquet(os.path.join(path_to_10k, file_name) + '.parquet')"
   ]
  },
  {
   "cell_type": "code",
   "execution_count": 76,
   "metadata": {},
   "outputs": [
    {
     "name": "stdout",
     "output_type": "stream",
     "text": [
      "==== Overview ====\n"
     ]
    },
    {
     "name": "stdout",
     "output_type": "stream",
     "text": [
      "count       7407861.000\n",
      "mean          12264.440\n",
      "std         8205482.023\n",
      "min               1.000\n",
      "25%               1.680\n",
      "50%               4.760\n",
      "75%              20.161\n",
      "max     21648180707.099\n",
      "Name: label_ppl, dtype: float64\n",
      "==== Percentiles ====\n",
      "    percentile             ppl\n",
      "0            0           1.000\n",
      "1           10           1.058\n",
      "2           20           1.384\n",
      "3           30           2.037\n",
      "4           40           3.102\n",
      "5           50           4.760\n",
      "6           60           7.510\n",
      "7           70          13.610\n",
      "8           80          33.210\n",
      "9           90         164.178\n",
      "10          95         765.303\n",
      "11          99       16672.829\n",
      "12         100 21648180707.099\n"
     ]
    }
   ],
   "source": [
    "def print_percentiles(values: pd.Series):\n",
    "    percentiles = [  0,  10,  20,  30,  40,  50,  60,  70,  80,  90, 95, 99, 100]\n",
    "    percentile_values = np.percentile(values, percentiles)\n",
    "    df_percentiles = pd.DataFrame({\n",
    "        'percentile': percentiles,\n",
    "        'ppl': percentile_values\n",
    "    })\n",
    "    with pd.option_context('display.float_format', lambda x: '%.3f' % x):\n",
    "        print(\"==== Percentiles ====\")\n",
    "        print(df_percentiles)\n",
    "\n",
    "with pd.option_context('display.float_format', lambda x: '%.3f' % x):\n",
    "    print(\"==== Overview ====\")\n",
    "    print(df['label_ppl'].describe())\n",
    "    print_percentiles(df['label_ppl'])"
   ]
  },
  {
   "cell_type": "code",
   "execution_count": 77,
   "metadata": {},
   "outputs": [
    {
     "data": {
      "text/plain": [
       "pid                                          29944812\n",
       "n_events                                         5017\n",
       "n_tokens                                         4109\n",
       "token_idx                                          85\n",
       "label                                           11515\n",
       "label_log_prob                             -23.798187\n",
       "argmax_label                                     1653\n",
       "argmax_log_prob                             -0.000396\n",
       "label_ppl                          21648180707.099365\n",
       "label_as_token                       SNOMED/282741006\n",
       "label_as_token_desc            Post-herpetic neuritis\n",
       "argmax_ppl                                   1.000396\n",
       "argmax_as_token                      SNOMED/408277005\n",
       "argmax_as_token_desc    APTT inhibitor screening test\n",
       "Name: 2924516, dtype: object"
      ]
     },
     "execution_count": 77,
     "metadata": {},
     "output_type": "execute_result"
    }
   ],
   "source": [
    "# Who is the major outlier?\n",
    "df.iloc[df['label_ppl'].argmax()]"
   ]
  },
  {
   "cell_type": "code",
   "execution_count": 78,
   "metadata": {},
   "outputs": [
    {
     "data": {
      "image/png": "[encoded data removed]",
      "text/plain": [
       "<Figure size 600x400 with 1 Axes>"
      ]
     },
     "metadata": {},
     "output_type": "display_data"
    }
   ],
   "source": [
    "plt.figure(figsize=(6, 4))\n",
    "plt.hist(df['label_ppl'], bins=50, log=True)  # Apply log scale to y-axis (or x-axis if needed)\n",
    "plt.xlabel('PPL per token')\n",
    "plt.ylabel('Count')\n",
    "plt.title('Frequency of ppl values')\n",
    "plt.show()"
   ]
  },
  {
   "cell_type": "markdown",
   "metadata": {},
   "source": [
    "## PPL v. token position\n",
    "\n",
    "Given a token's location in a sequence, what is the median ppl we can expect? (NOTE: Use median instead of mean due to huge right skew outliers)"
   ]
  },
  {
   "cell_type": "code",
   "execution_count": 79,
   "metadata": {},
   "outputs": [
    {
     "name": "stdout",
     "output_type": "stream",
     "text": [
      "==== Percentiles ====\n",
      "    percentile          ppl\n",
      "0            0        2.369\n",
      "1           10        2.369\n",
      "2           20        2.369\n",
      "3           30        2.971\n",
      "4           40        2.971\n",
      "5           50        2.971\n",
      "6           60        7.038\n",
      "7           70        7.038\n",
      "8           80        7.038\n",
      "9           90       17.102\n",
      "10          95       17.102\n",
      "11          99      306.649\n",
      "12         100 19116160.155\n",
      "==== Percentiles ====\n",
      "    percentile          ppl\n",
      "0            0        1.000\n",
      "1           10        1.002\n",
      "2           20        1.004\n",
      "3           30        1.004\n",
      "4           40        1.004\n",
      "5           50        4.040\n",
      "6           60        5.552\n",
      "7           70        6.506\n",
      "8           80       10.815\n",
      "9           90       64.906\n",
      "10          95     1099.603\n",
      "11          99    63749.762\n",
      "12         100 46621117.571\n",
      "==== Percentiles ====\n",
      "    percentile          ppl\n",
      "0            0        1.000\n",
      "1           10        1.187\n",
      "2           20        1.207\n",
      "3           30        1.233\n",
      "4           40        1.233\n",
      "5           50        1.233\n",
      "6           60        2.916\n",
      "7           70        9.717\n",
      "8           80       65.475\n",
      "9           90      753.840\n",
      "10          95     6140.448\n",
      "11          99   132711.792\n",
      "12         100 75010213.477\n"
     ]
    }
   ],
   "source": [
    "print_percentiles(df[df['token_idx'] == 0]['label_ppl'])\n",
    "print_percentiles(df[df['token_idx'] == 1]['label_ppl'])\n",
    "print_percentiles(df[df['token_idx'] == 2]['label_ppl'])"
   ]
  },
  {
   "cell_type": "code",
   "execution_count": 82,
   "metadata": {},
   "outputs": [
    {
     "name": "stdout",
     "output_type": "stream",
     "text": [
      "Keeping 10975 token positions (i.e. all token positions with >= 100 data points)\n"
     ]
    }
   ],
   "source": [
    "# Count token position frequencies\n",
    "df_token_position_counts = df['token_idx'].value_counts().sort_index().reset_index()\n",
    "\n",
    "# Filter out any token positions with < min_count occurrences\n",
    "min_count: int = 100\n",
    "keep_token_idxs: List[int] = df_token_position_counts[df_token_position_counts['count'] >= min_count]['token_idx'].tolist()\n",
    "print(f\"Keeping {len(keep_token_idxs)} token positions (i.e. all token positions with >= {min_count} data points)\")"
   ]
  },
  {
   "cell_type": "code",
   "execution_count": 85,
   "metadata": {},
   "outputs": [
    {
     "name": "stderr",
     "output_type": "stream",
     "text": [
      "Processing token positions:   0%|          | 5/10975 [00:00<03:43, 49.17it/s]"
     ]
    },
    {
     "name": "stderr",
     "output_type": "stream",
     "text": [
      "Processing token positions: 100%|██████████| 10975/10975 [01:48<00:00, 101.22it/s]\n"
     ]
    },
    {
     "data": {
      "image/png": "[encoded data removed]",
      "text/plain": [
       "<Figure size 600x400 with 1 Axes>"
      ]
     },
     "metadata": {},
     "output_type": "display_data"
    }
   ],
   "source": [
    "# Plot token position v. avg. val/ppl\n",
    "is_plot_ci: bool = False\n",
    "df_pos_to_ppl = []\n",
    "for token_idx in tqdm(keep_token_idxs, desc='Processing token positions'):\n",
    "    # 1. Calculate median PPL for this token positions\n",
    "    df_token_idx = df[df['token_idx'] == token_idx]\n",
    "    median = df_token_idx['label_ppl'].median()\n",
    "    if not is_plot_ci:\n",
    "        df_pos_to_ppl.append({\n",
    "            'token_idx': token_idx,\n",
    "            'median': median\n",
    "        })\n",
    "        continue\n",
    "    # 2. Calculate 95% CI\n",
    "    # Sort the data\n",
    "    sorted_data = df_token_idx['label_ppl'].sort_values().values\n",
    "    n = len(sorted_data)\n",
    "    # Calculate the ranks for the 95% confidence interval\n",
    "    lower_rank = int(np.floor(0.5 * n - 1.96 * np.sqrt(n) / 2))\n",
    "    upper_rank = int(np.ceil(0.5 * n + 1.96 * np.sqrt(n) / 2))\n",
    "    lower_rank = max(0, lower_rank)\n",
    "    upper_rank = min(n - 1, upper_rank)\n",
    "    lower_bound = sorted_data[lower_rank]\n",
    "    upper_bound = sorted_data[upper_rank]\n",
    "    df_pos_to_ppl.append({\n",
    "        'token_idx': token_idx,\n",
    "        'median': median,\n",
    "        'lower_bound': lower_bound,\n",
    "        'upper_bound': upper_bound\n",
    "    })\n",
    "df_pos_to_ppl = pd.DataFrame(df_pos_to_ppl)\n",
    "plt.figure(figsize=(6, 4))\n",
    "plt.plot(df_pos_to_ppl['token_idx'], df_pos_to_ppl['median'], label='Median PPL')\n",
    "if is_plot_ci:\n",
    "    plt.fill_between(df_pos_to_ppl['token_idx'], df_pos_to_ppl['lower_bound'], df_pos_to_ppl['upper_bound'], alpha=0.3, color='green', label='95% CI')\n",
    "plt.xlabel('Token position')\n",
    "plt.ylabel('Median PPL')\n",
    "plt.title('Token position v. Median PPL')\n",
    "plt.axvline(x=1023, color='red', linestyle='--', label='ctx length = 1024')\n",
    "plt.legend()\n",
    "plt.show()"
   ]
  },
  {
   "cell_type": "code",
   "execution_count": null,
   "metadata": {},
   "outputs": [],
   "source": []
  }
 ],
 "metadata": {
  "kernelspec": {
   "display_name": "Python 3",
   "language": "python",
   "name": "python3"
  },
  "language_info": {
   "codemirror_mode": {
    "name": "ipython",
    "version": 3
   },
   "file_extension": ".py",
   "mimetype": "text/x-python",
   "name": "python",
   "nbconvert_exporter": "python",
   "pygments_lexer": "ipython3",
   "version": "3.10.14"
  }
 },
 "nbformat": 4,
 "nbformat_minor": 2
}
