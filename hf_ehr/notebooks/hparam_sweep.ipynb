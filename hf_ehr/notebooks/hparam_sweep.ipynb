{
 "cells": [
  {
   "cell_type": "code",
   "execution_count": 1,
   "metadata": {},
   "outputs": [],
   "source": [
    "%load_ext autoreload\n",
    "%autoreload 2\n",
    "\n",
    "import pandas as pd\n",
    "import matplotlib.pyplot as plt\n",
    "import os\n",
    "import json\n",
    "from typing import List, Dict, Tuple, Optional\n",
    "from tqdm import tqdm\n",
    "import seaborn as sns\n",
    "tqdm.pandas()\n",
    "sns.set_context(\"paper\")"
   ]
  },
  {
   "cell_type": "code",
   "execution_count": 2,
   "metadata": {},
   "outputs": [
    {
     "name": "stdout",
     "output_type": "stream",
     "text": [
      "Tasks:  ['new_hypertension', 'guo_los', 'lab_hypoglycemia', 'new_lupus', 'lab_hyponatremia', 'new_pancan', 'lab_anemia', 'new_acutemi', 'chexpert', 'guo_readmission', 'lab_thrombocytopenia', 'new_hyperlipidemia', 'new_celiac', 'lab_hyperkalemia', 'guo_icu']\n"
     ]
    }
   ],
   "source": [
    "path_to_results_dir: str = '/share/pi/nigam/mwornow/ehrshot-benchmark/EHRSHOT_ASSETS/results_ehrshot'\n",
    "tasks = os.listdir(path_to_results_dir)\n",
    "print(\"Tasks: \", tasks)"
   ]
  },
  {
   "cell_type": "code",
   "execution_count": 3,
   "metadata": {},
   "outputs": [
    {
     "name": "stderr",
     "output_type": "stream",
     "text": [
      "Finding paths...: 100%|██████████| 15/15 [01:19<00:00,  5.28s/it]"
     ]
    },
    {
     "name": "stdout",
     "output_type": "stream",
     "text": [
      "Found 1585 paths\n"
     ]
    },
    {
     "name": "stderr",
     "output_type": "stream",
     "text": [
      "\n"
     ]
    }
   ],
   "source": [
    "paths = []\n",
    "for task in tqdm(tasks, desc='Finding paths...'):\n",
    "    path_to_task_dir: str = os.path.join(path_to_results_dir, task, 'models')\n",
    "    if not os.path.exists(path_to_task_dir): \n",
    "        continue\n",
    "    models = os.listdir(path_to_task_dir)\n",
    "    for model in models:\n",
    "        path_to_model_dir: str = os.path.join(path_to_task_dir, model)\n",
    "        heads = os.listdir(path_to_model_dir)\n",
    "        for head in heads:\n",
    "            path_to_head_dir: str = os.path.join(path_to_model_dir, head)\n",
    "            subtasks = os.listdir(path_to_head_dir)\n",
    "            for subtask in subtasks:\n",
    "                path_to_subtask_dir: str = os.path.join(path_to_head_dir, subtask)\n",
    "                ks = os.listdir(path_to_subtask_dir)\n",
    "                for k in ks:\n",
    "                    path_to_k_dir: str = os.path.join(path_to_subtask_dir, k)\n",
    "                    paths.append({\n",
    "                        'path' : path_to_k_dir,\n",
    "                        'task' : task,\n",
    "                        'model' : model,\n",
    "                        'head' : head,\n",
    "                        'k' : k,\n",
    "                        'subtask' : subtask,\n",
    "                    })\n",
    "print(\"Found {} paths\".format(len(paths)))"
   ]
  },
  {
   "cell_type": "code",
   "execution_count": 4,
   "metadata": {},
   "outputs": [
    {
     "name": "stdout",
     "output_type": "stream",
     "text": [
      "# of expected tasks (just counting 'count' + 'clmbr' models): 1344\n"
     ]
    }
   ],
   "source": [
    "print(\"# of expected tasks (just counting 'count' + 'clmbr' models):\", 4 * 12 * (15 + 13))"
   ]
  },
  {
   "cell_type": "code",
   "execution_count": 5,
   "metadata": {},
   "outputs": [
    {
     "name": "stderr",
     "output_type": "stream",
     "text": [
      "Loading results...:   0%|          | 0/1585 [00:00<?, ?it/s]"
     ]
    },
    {
     "name": "stderr",
     "output_type": "stream",
     "text": [
      "Loading results...: 100%|██████████| 1585/1585 [14:45<00:00,  1.79it/s]\n"
     ]
    }
   ],
   "source": [
    "results = []\n",
    "for p in tqdm(paths, desc='Loading results...'):\n",
    "    path, task, model, head, k, subtask = p['path'], p['task'], p['model'], p['head'], p['k'], p['subtask']\n",
    "    path_to_hparams_json: str = os.path.join(path, 'model_hparams.json')\n",
    "    hparams: dict = json.load(open(path_to_hparams_json, 'r')).get(\"model_hparams\", {})\n",
    "    auroc: float = json.load(open(path_to_hparams_json, 'r')).get(\"scores\", {}).get(\"auroc\", {}).get(\"score\")\n",
    "    hparams = { f\"hparam_{k}\": v for k, v in hparams.items() }\n",
    "    results.append({\n",
    "        **p,\n",
    "        **hparams\n",
    "    })\n",
    "df = pd.DataFrame(results)"
   ]
  },
  {
   "cell_type": "code",
   "execution_count": 6,
   "metadata": {},
   "outputs": [
    {
     "data": {
      "text/plain": [
       "(1333, 49)"
      ]
     },
     "execution_count": 6,
     "metadata": {},
     "output_type": "execute_result"
    }
   ],
   "source": [
    "df = df[df['model'].isin(['count', 'clmbr'])]\n",
    "df.shape"
   ]
  },
  {
   "cell_type": "markdown",
   "metadata": {},
   "source": [
    "### LogReg"
   ]
  },
  {
   "cell_type": "code",
   "execution_count": 7,
   "metadata": {},
   "outputs": [
    {
     "data": {
      "text/plain": [
       "hparam_C\n",
       "1.000000e-08    194\n",
       "1.000000e-02    131\n",
       "1.000000e-01     89\n",
       "1.000000e-03     63\n",
       "1.000000e+04     33\n",
       "1.000000e+02     31\n",
       "1.000000e+00     28\n",
       "1.000000e+06     25\n",
       "1.000000e-04     25\n",
       "1.000000e+03     23\n",
       "1.000000e+05     19\n",
       "1.000000e-05      7\n",
       "1.000000e-06      4\n",
       "Name: count, dtype: int64"
      ]
     },
     "execution_count": 7,
     "metadata": {},
     "output_type": "execute_result"
    }
   ],
   "source": [
    "df[df['head'] == 'lr_lbfgs']['hparam_C'].value_counts()"
   ]
  },
  {
   "cell_type": "markdown",
   "metadata": {},
   "source": [
    "### Random Forest"
   ]
  },
  {
   "cell_type": "code",
   "execution_count": 8,
   "metadata": {},
   "outputs": [
    {
     "data": {
      "text/plain": [
       "hparam_n_estimators\n",
       "300.0    112\n",
       "100.0     62\n",
       "10.0      52\n",
       "50.0      51\n",
       "20.0      48\n",
       "Name: count, dtype: int64"
      ]
     },
     "execution_count": 8,
     "metadata": {},
     "output_type": "execute_result"
    }
   ],
   "source": [
    "df[df['head'] == 'rf']['hparam_n_estimators'].value_counts()"
   ]
  },
  {
   "cell_type": "code",
   "execution_count": 9,
   "metadata": {},
   "outputs": [
    {
     "data": {
      "text/plain": [
       "hparam_max_depth\n",
       "3.0     162\n",
       "5.0      72\n",
       "10.0     48\n",
       "20.0     33\n",
       "50.0     10\n",
       "Name: count, dtype: int64"
      ]
     },
     "execution_count": 9,
     "metadata": {},
     "output_type": "execute_result"
    }
   ],
   "source": [
    "df[df['head'] == 'rf']['hparam_max_depth'].value_counts()"
   ]
  },
  {
   "cell_type": "markdown",
   "metadata": {},
   "source": [
    "### GBM"
   ]
  },
  {
   "cell_type": "code",
   "execution_count": 10,
   "metadata": {},
   "outputs": [
    {
     "data": {
      "text/plain": [
       "hparam_max_depth\n",
       " 3.0    207\n",
       " 6.0     89\n",
       "-1.0     40\n",
       "Name: count, dtype: int64"
      ]
     },
     "execution_count": 10,
     "metadata": {},
     "output_type": "execute_result"
    }
   ],
   "source": [
    "df[df['head'] == 'gbm']['hparam_max_depth'].value_counts()"
   ]
  },
  {
   "cell_type": "code",
   "execution_count": 11,
   "metadata": {},
   "outputs": [
    {
     "data": {
      "text/plain": [
       "hparam_learning_rate\n",
       "0.02    128\n",
       "0.50    120\n",
       "0.10     88\n",
       "Name: count, dtype: int64"
      ]
     },
     "execution_count": 11,
     "metadata": {},
     "output_type": "execute_result"
    }
   ],
   "source": [
    "df[df['head'] == 'gbm']['hparam_learning_rate'].value_counts()"
   ]
  },
  {
   "cell_type": "code",
   "execution_count": 12,
   "metadata": {},
   "outputs": [
    {
     "data": {
      "text/plain": [
       "hparam_num_leaves\n",
       "10.0     287\n",
       "25.0      32\n",
       "100.0     17\n",
       "Name: count, dtype: int64"
      ]
     },
     "execution_count": 12,
     "metadata": {},
     "output_type": "execute_result"
    }
   ],
   "source": [
    "df[df['head'] == 'gbm']['hparam_num_leaves'].value_counts()"
   ]
  },
  {
   "cell_type": "code",
   "execution_count": null,
   "metadata": {},
   "outputs": [],
   "source": []
  }
 ],
 "metadata": {
  "kernelspec": {
   "display_name": "Python 3",
   "language": "python",
   "name": "python3"
  },
  "language_info": {
   "codemirror_mode": {
    "name": "ipython",
    "version": 3
   },
   "file_extension": ".py",
   "mimetype": "text/x-python",
   "name": "python",
   "nbconvert_exporter": "python",
   "pygments_lexer": "ipython3",
   "version": "3.10.14"
  }
 },
 "nbformat": 4,
 "nbformat_minor": 2
}
